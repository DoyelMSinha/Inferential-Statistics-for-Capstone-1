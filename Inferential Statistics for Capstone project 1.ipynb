{
 "cells": [
  {
   "cell_type": "markdown",
   "metadata": {
    "scrolled": true
   },
   "source": [
    "# Inferential Statistics : Capstone Project 1 "
   ]
  },
  {
   "cell_type": "markdown",
   "metadata": {},
   "source": [
    "### Objective: Apply Inferential statistics techniques to explore the data"
   ]
  },
  {
   "cell_type": "markdown",
   "metadata": {},
   "source": [
    "#### Step 1: Read CSV file with Airbnb data downloaded from http://insideairbnb.com/get-the-data.html"
   ]
  },
  {
   "cell_type": "code",
   "execution_count": 1,
   "metadata": {
    "scrolled": false
   },
   "outputs": [
    {
     "name": "stdout",
     "output_type": "stream",
     "text": [
      "Populating the interactive namespace from numpy and matplotlib\n"
     ]
    }
   ],
   "source": [
    "import pandas as pd\n",
    "import matplotlib.pyplot as plt\n",
    "import numpy as np\n",
    "%pylab inline\n",
    "df = pd.read_csv('/Users/doyelm/Documents/Project/listings.csv')\n",
    "\n"
   ]
  },
  {
   "cell_type": "markdown",
   "metadata": {},
   "source": [
    "#### Step2: Study the data"
   ]
  },
  {
   "cell_type": "code",
   "execution_count": 2,
   "metadata": {
    "scrolled": true
   },
   "outputs": [
    {
     "name": "stdout",
     "output_type": "stream",
     "text": [
      "<class 'pandas.core.frame.DataFrame'>\n",
      "RangeIndex: 9663 entries, 0 to 9662\n",
      "Data columns (total 16 columns):\n",
      "id                                9663 non-null int64\n",
      "name                              9663 non-null object\n",
      "host_id                           9663 non-null int64\n",
      "host_name                         9661 non-null object\n",
      "neighbourhood_group               0 non-null float64\n",
      "neighbourhood                     9663 non-null int64\n",
      "latitude                          9663 non-null float64\n",
      "longitude                         9663 non-null float64\n",
      "room_type                         9663 non-null object\n",
      "price                             9663 non-null int64\n",
      "minimum_nights                    9663 non-null int64\n",
      "number_of_reviews                 9663 non-null int64\n",
      "last_review                       6006 non-null object\n",
      "reviews_per_month                 6007 non-null float64\n",
      "calculated_host_listings_count    9663 non-null int64\n",
      "availability_365                  9663 non-null int64\n",
      "dtypes: float64(4), int64(8), object(4)\n",
      "memory usage: 1.2+ MB\n"
     ]
    }
   ],
   "source": [
    "df.info()"
   ]
  },
  {
   "cell_type": "code",
   "execution_count": 8,
   "metadata": {},
   "outputs": [
    {
     "data": {
      "text/plain": [
       "41"
      ]
     },
     "execution_count": 8,
     "metadata": {},
     "output_type": "execute_result"
    }
   ],
   "source": [
    "df2 = df.groupby(['neighbourhood'])[['id']].count().reset_index()\n",
    " \n",
    "len(df2[df2.id > 10].sort_values('id',ascending=False ) )"
   ]
  },
  {
   "cell_type": "markdown",
   "metadata": {},
   "source": [
    "#### Select top 39 neighbourhoods - from above result we see 39 neighbourhoods have sample > 10"
   ]
  },
  {
   "cell_type": "code",
   "execution_count": 3,
   "metadata": {},
   "outputs": [
    {
     "name": "stdout",
     "output_type": "stream",
     "text": [
      "<class 'pandas.core.frame.DataFrame'>\n",
      "Int64Index: 9621 entries, 0 to 9662\n",
      "Data columns (total 8 columns):\n",
      "neighbourhood        9621 non-null object\n",
      "latitude             9621 non-null float64\n",
      "longitude            9621 non-null float64\n",
      "room_type            9621 non-null object\n",
      "price                9621 non-null float64\n",
      "minimum_nights       9621 non-null float64\n",
      "number_of_reviews    9621 non-null float64\n",
      "availability_365     9621 non-null float64\n",
      "dtypes: float64(6), object(2)\n",
      "memory usage: 676.5+ KB\n"
     ]
    }
   ],
   "source": [
    "\n",
    "df_1=df.groupby(['neighbourhood' ])[['id']].count().sort_values(by=['id'], ascending=False)[0:39]\n",
    "\n",
    "# choose data for the neighbourhoods in the list created above\n",
    "df_new = df[df['neighbourhood'].isin(df_1.index.values.tolist())].loc[:, ('neighbourhood', 'latitude','longitude','room_type','price','minimum_nights','number_of_reviews', 'availability_365') ]\n",
    "df_new.fillna(0)   \n",
    "df_new.price=df_new.price.astype(float) \n",
    "df_new.minimum_nights=df_new.minimum_nights.astype(float) \n",
    "df_new.number_of_reviews=df_new.number_of_reviews.astype(float) \n",
    "df_new.availability_365=df_new.availability_365.astype(float) \n",
    "df_new.neighbourhood=df_new.neighbourhood.astype(str) \n",
    " \n",
    "df_new.info()\n",
    " "
   ]
  },
  {
   "cell_type": "markdown",
   "metadata": {},
   "source": [
    "### Check if data exists with price == 0"
   ]
  },
  {
   "cell_type": "code",
   "execution_count": 127,
   "metadata": {},
   "outputs": [
    {
     "data": {
      "text/html": [
       "<div>\n",
       "<style scoped>\n",
       "    .dataframe tbody tr th:only-of-type {\n",
       "        vertical-align: middle;\n",
       "    }\n",
       "\n",
       "    .dataframe tbody tr th {\n",
       "        vertical-align: top;\n",
       "    }\n",
       "\n",
       "    .dataframe thead th {\n",
       "        text-align: right;\n",
       "    }\n",
       "</style>\n",
       "<table border=\"1\" class=\"dataframe\">\n",
       "  <thead>\n",
       "    <tr style=\"text-align: right;\">\n",
       "      <th></th>\n",
       "      <th>id</th>\n",
       "      <th>name</th>\n",
       "      <th>host_id</th>\n",
       "      <th>host_name</th>\n",
       "      <th>neighbourhood_group</th>\n",
       "      <th>neighbourhood</th>\n",
       "      <th>latitude</th>\n",
       "      <th>longitude</th>\n",
       "      <th>room_type</th>\n",
       "      <th>price</th>\n",
       "      <th>minimum_nights</th>\n",
       "      <th>number_of_reviews</th>\n",
       "      <th>last_review</th>\n",
       "      <th>reviews_per_month</th>\n",
       "      <th>calculated_host_listings_count</th>\n",
       "      <th>availability_365</th>\n",
       "    </tr>\n",
       "    <tr>\n",
       "      <th>last_review</th>\n",
       "      <th></th>\n",
       "      <th></th>\n",
       "      <th></th>\n",
       "      <th></th>\n",
       "      <th></th>\n",
       "      <th></th>\n",
       "      <th></th>\n",
       "      <th></th>\n",
       "      <th></th>\n",
       "      <th></th>\n",
       "      <th></th>\n",
       "      <th></th>\n",
       "      <th></th>\n",
       "      <th></th>\n",
       "      <th></th>\n",
       "      <th></th>\n",
       "    </tr>\n",
       "  </thead>\n",
       "  <tbody>\n",
       "  </tbody>\n",
       "</table>\n",
       "</div>"
      ],
      "text/plain": [
       "Empty DataFrame\n",
       "Columns: [id, name, host_id, host_name, neighbourhood_group, neighbourhood, latitude, longitude, room_type, price, minimum_nights, number_of_reviews, last_review, reviews_per_month, calculated_host_listings_count, availability_365]\n",
       "Index: []"
      ]
     },
     "execution_count": 127,
     "metadata": {},
     "output_type": "execute_result"
    }
   ],
   "source": [
    "df[df.price == 0]"
   ]
  },
  {
   "cell_type": "markdown",
   "metadata": {},
   "source": [
    "### convert non-numeric binary variables into binary (0/1) variables. Converts categorical variables into dummy variables."
   ]
  },
  {
   "cell_type": "code",
   "execution_count": 8,
   "metadata": {},
   "outputs": [],
   "source": [
    "\n",
    "def preprocess_features(X):\n",
    "    '''   converts non-numeric binary variables into\n",
    "        binary (0/1) variables. Converts categorical variables into dummy variables. '''\n",
    "\n",
    "    # Initialize new output DataFrame\n",
    "    output = pd.DataFrame(index = X.index)\n",
    "    # Investigate each feature column for the data\n",
    "    for col, col_data in X.iteritems():\n",
    "        #print(col,col_data)\n",
    "        # If data type is non-numeric, replace all yes/no values with 1/0\n",
    "        if col_data.dtype == object:\n",
    "            col_data = col_data.replace(['yes', 'no'], [1, 0])\n",
    "\n",
    "        # If data type is categorical, convert to dummy variables\n",
    "        if col_data.dtype == object:\n",
    "            # Example: 'school' => 'school_GP' and 'school_MS'\n",
    "            col_data = pd.get_dummies(col_data, prefix = col)  \n",
    "        \n",
    "        # Collect the revised columns\n",
    "        output = output.join(col_data)\n",
    "    \n",
    "    return output\n",
    "\n",
    "#y =  log(df_new.price+1)#.fillna(0)   \n",
    "y =  df_new.price\n",
    "X = df_new.loc[:,df_new.columns != 'price'] \n",
    "X_all = preprocess_features(X)\n",
    " \n",
    " \n",
    "\n",
    " "
   ]
  },
  {
   "cell_type": "markdown",
   "metadata": {},
   "source": [
    "## Apply Inferential Statictics techniques"
   ]
  },
  {
   "cell_type": "markdown",
   "metadata": {},
   "source": [
    "### Split the targets into training/testing sets"
   ]
  },
  {
   "cell_type": "code",
   "execution_count": 6,
   "metadata": {},
   "outputs": [],
   "source": [
    "from sklearn.metrics import r2_score\n",
    "from sklearn.model_selection import train_test_split, GridSearchCV\n",
    "df_X_train, df_X_test, df_y_train, df_y_test = train_test_split(X_all, y, test_size=0.3, random_state=42)"
   ]
  },
  {
   "cell_type": "markdown",
   "metadata": {},
   "source": [
    "### Perform T test  or Hypothesis testing"
   ]
  },
  {
   "cell_type": "code",
   "execution_count": 9,
   "metadata": {},
   "outputs": [
    {
     "data": {
      "text/plain": [
       "Ttest_indResult(statistic=32.78944417358676, pvalue=3.181358246813975e-222)"
      ]
     },
     "execution_count": 9,
     "metadata": {},
     "output_type": "execute_result"
    }
   ],
   "source": [
    "from scipy import stats\n",
    " \n",
    "df_2=df.groupby(['room_type' ])[['id']].count().sort_values(by=['id'] , ascending=False)[0:1]\n",
    "df_3=df.groupby(['room_type'])[['id']].count().sort_values(by=['id'] , ascending=False)[1:2]\n",
    "#print(df_2)\n",
    "#print(df_3)\n",
    "df_array2=df[df['room_type'].isin(df_2.index.values.tolist())].price\n",
    "df_array3=df[df['room_type'].isin(df_3.index.values.tolist())].price\n",
    "\n",
    "#print(df_array1)\n",
    "np.seterr(divide='ignore', invalid='ignore')\n",
    "stats.ttest_ind(df_array2, df_array3, equal_var = False)"
   ]
  },
  {
   "cell_type": "markdown",
   "metadata": {},
   "source": [
    "<P> In the above test stats.ttest_ind is used to calculate the T-test for the means of two independent samples of scores. \n",
    "    The test measures whether the average (expected) value differs significantly across samples. \n",
    "    If the P-value is less than the significance level 0.05, we reject the null hypothesis.<p>\n",
    "    <p><b>Null hypothesis :<b> \"The average price for the apartment is not equal to the average price for the private room\" <p>\n",
    "    <p><b>The alternatve hypothesis :<b> \" the average price is equal for different types of rooms. <p>\n",
    "   <p>As P-value is larger than 0.05 or 0.1, we reject the null hypothesis \n",
    "<p>\n",
    "\n"
   ]
  },
  {
   "cell_type": "markdown",
   "metadata": {},
   "source": [
    "### OLS - Ordinary Least squares model "
   ]
  },
  {
   "cell_type": "code",
   "execution_count": 10,
   "metadata": {},
   "outputs": [
    {
     "name": "stdout",
     "output_type": "stream",
     "text": [
      "Populating the interactive namespace from numpy and matplotlib\n",
      "                             Results: Ordinary least squares\n",
      "==========================================================================================\n",
      "Model:                      OLS                     Adj. R-squared:            0.140      \n",
      "Dependent Variable:         price                   AIC:                       143195.8225\n",
      "Date:                       2018-05-15 22:12        BIC:                       143525.7209\n",
      "No. Observations:           9621                    Log-Likelihood:            -71552.    \n",
      "Df Model:                   45                      F-statistic:               35.68      \n",
      "Df Residuals:               9575                    Prob (F-statistic):        2.19e-282  \n",
      "R-squared:                  0.144                   Scale:                     1.6957e+05 \n",
      "------------------------------------------------------------------------------------------\n",
      "                             Coef.      Std.Err.     t     P>|t|     [0.025       0.975]  \n",
      "------------------------------------------------------------------------------------------\n",
      "neighbourhood_78701         -7730.3671  2276.8559  -3.3952 0.0007  -12193.4868  -3267.2475\n",
      "neighbourhood_78702         -7772.3953  2269.9319  -3.4241 0.0006  -12221.9425  -3322.8481\n",
      "neighbourhood_78703         -7732.4807  2284.3869  -3.3849 0.0007  -12210.3628  -3254.5985\n",
      "neighbourhood_78704         -7766.4190  2279.1774  -3.4076 0.0007  -12234.0893  -3298.7487\n",
      "neighbourhood_78705         -7973.8581  2279.1357  -3.4986 0.0005  -12441.4467  -3506.2696\n",
      "neighbourhood_78721         -7886.6652  2261.8632  -3.4868 0.0005  -12320.3961  -3452.9344\n",
      "neighbourhood_78722         -7921.2314  2271.9686  -3.4865 0.0005  -12374.7711  -3467.6918\n",
      "neighbourhood_78723         -7936.1871  2267.0820  -3.5006 0.0005  -12380.1480  -3492.2262\n",
      "neighbourhood_78724         -7905.4970  2250.4770  -3.5128 0.0004  -12316.9085  -3494.0855\n",
      "neighbourhood_78725         -7791.2919  2242.7681  -3.4740 0.0005  -12187.5923  -3394.9915\n",
      "neighbourhood_78727         -8371.6326  2292.8001  -3.6513 0.0003  -12866.0063  -3877.2589\n",
      "neighbourhood_78728         -8427.9086  2286.6614  -3.6857 0.0002  -12910.2491  -3945.5681\n",
      "neighbourhood_78729         -8471.1125  2312.1853  -3.6637 0.0002  -13003.4853  -3938.7397\n",
      "neighbourhood_78730         -8037.7883  2311.4373  -3.4774 0.0005  -12568.6949  -3506.8816\n",
      "neighbourhood_78731         -7962.6124  2292.2558  -3.4737 0.0005  -12455.9191  -3469.3057\n",
      "neighbourhood_78732         -7881.6837  2336.5741  -3.3732 0.0007  -12461.8637  -3301.5037\n",
      "neighbourhood_78733         -8103.5651  2322.3559  -3.4894 0.0005  -12655.8744  -3551.2558\n",
      "neighbourhood_78734         -8203.9979  2352.4929  -3.4874 0.0005  -12815.3823  -3592.6136\n",
      "neighbourhood_78735         -7722.3197  2303.7151  -3.3521 0.0008  -12238.0892  -3206.5503\n",
      "neighbourhood_78736         -7883.1182  2326.8949  -3.3878 0.0007  -12444.3249  -3321.9114\n",
      "neighbourhood_78737         -7692.0583  2330.2941  -3.3009 0.0010  -12259.9282  -3124.1884\n",
      "neighbourhood_78738         -7816.0462  2350.4120  -3.3254 0.0009  -12423.3514  -3208.7409\n",
      "neighbourhood_78739         -7606.5746  2305.8673  -3.2988 0.0010  -12126.5628  -3086.5863\n",
      "neighbourhood_78741         -7807.1754  2267.1100  -3.4437 0.0006  -12251.1912  -3363.1597\n",
      "neighbourhood_78744         -7674.1387  2266.3510  -3.3861 0.0007  -12116.6666  -3231.6109\n",
      "neighbourhood_78745         -7762.7354  2283.2620  -3.3998 0.0007  -12238.4125  -3287.0583\n",
      "neighbourhood_78746         -7565.3131  2295.1324  -3.2962 0.0010  -12064.2586  -3066.3676\n",
      "neighbourhood_78747         -7452.4758  2265.6805  -3.2893 0.0010  -11893.6893  -3011.2622\n",
      "neighbourhood_78748         -7606.8158  2285.2550  -3.3287 0.0009  -12086.3996  -3127.2320\n",
      "neighbourhood_78749         -7737.6580  2301.6597  -3.3618 0.0008  -12249.3984  -3225.9176\n",
      "neighbourhood_78750         -8330.9880  2317.2952  -3.5951 0.0003  -12873.3774  -3788.5986\n",
      "neighbourhood_78751         -8035.3693  2277.4489  -3.5282 0.0004  -12499.6514  -3571.0872\n",
      "neighbourhood_78752         -8082.2912  2276.3430  -3.5506 0.0004  -12544.4056  -3620.1768\n",
      "neighbourhood_78753         -8221.5178  2272.9742  -3.6171 0.0003  -12677.0287  -3766.0069\n",
      "neighbourhood_78754         -8125.6617  2262.1859  -3.5920 0.0003  -12560.0251  -3691.2982\n",
      "neighbourhood_78756         -8069.5161  2283.1003  -3.5345 0.0004  -12544.8761  -3594.1561\n",
      "neighbourhood_78757         -8168.1281  2284.2169  -3.5759 0.0004  -12645.6770  -3690.5792\n",
      "neighbourhood_78758         -8263.9883  2284.3110  -3.6177 0.0003  -12741.7217  -3786.2549\n",
      "neighbourhood_78759         -8289.5087  2297.1493  -3.6086 0.0003  -12792.4077  -3786.6097\n",
      "latitude                     2738.6133   367.5675   7.4506 0.0000    2018.1032   3459.1234\n",
      "longitude                    -290.7126   303.7038  -0.9572 0.3385    -886.0363    304.6112\n",
      "room_type_Entire home/apt -103095.9839 29767.3590  -3.4634 0.0005 -161446.3113 -44745.6564\n",
      "room_type_Private room    -103326.5343 29767.0662  -3.4712 0.0005 -161676.2878 -44976.7807\n",
      "room_type_Shared room     -103367.5741 29767.2200  -3.4725 0.0005 -161717.6291 -45017.5191\n",
      "minimum_nights                 -0.5605     0.7264  -0.7717 0.4403      -1.9844      0.8633\n",
      "number_of_reviews              -2.0093     0.1297 -15.4876 0.0000      -2.2636     -1.7550\n",
      "availability_365                0.0649     0.0289   2.2443 0.0248       0.0082      0.1216\n",
      "------------------------------------------------------------------------------------------\n",
      "Omnibus:                  15169.295           Durbin-Watson:              1.955           \n",
      "Prob(Omnibus):            0.000               Jarque-Bera (JB):           13620292.309    \n",
      "Skew:                     9.970               Prob(JB):                   0.000           \n",
      "Kurtosis:                 186.245             Condition No.:              8328717187460289\n",
      "==========================================================================================\n",
      "* The condition number is large (8e+15). This might indicate             strong\n",
      "multicollinearity or other numerical problems.\n"
     ]
    }
   ],
   "source": [
    "\n",
    "import statsmodels\n",
    "from numpy.random import randn\n",
    "import statsmodels.api as sm\n",
    "\n",
    "%pylab inline\n",
    "\n",
    "mymodel = sm.OLS(y,X_all)\n",
    "results = mymodel.fit()\n",
    "results.params\n",
    "results.summary()\n",
    "#results.summary2()\n",
    "results_summary=results.summary2()\n",
    "print(results_summary)\n",
    "\n"
   ]
  },
  {
   "cell_type": "markdown",
   "metadata": {},
   "source": [
    "#### The OLS class estimates a multi-variate regression model and provides a variety of fit-statistics. \n",
    "#### The negative values for the constants simply means that the expected value on the dependent variable (price) will be less than 0 when all independent/predictor variables are set to 0. \n",
    "#### Looking into the coefficients we see that room type is a significant factor followed by neighbourhood in determining the price of rooms."
   ]
  },
  {
   "cell_type": "markdown",
   "metadata": {},
   "source": [
    "### linear regression - mean squared deviation - for neighbourhood and price"
   ]
  },
  {
   "cell_type": "code",
   "execution_count": 12,
   "metadata": {},
   "outputs": [
    {
     "name": "stdout",
     "output_type": "stream",
     "text": [
      " R-squared: 0.4312684928007976\n"
     ]
    }
   ],
   "source": [
    "from sklearn import datasets, linear_model\n",
    "from sklearn.metrics import mean_squared_error, r2_score\n",
    "\n",
    "\n",
    "# Create linear regression object\n",
    "regr = linear_model.LinearRegression()\n",
    "\n",
    "\n",
    "# Train the model using the training sets\n",
    "regr.fit(df_X_train,df_y_train)\n",
    "\n",
    "# Make predictions using the testing set\n",
    "df_y_pred = regr.predict(df_X_test)\n",
    "\n",
    "\n",
    "from sklearn.metrics import r2_score\n",
    "\n",
    "print(' R-squared:',r2_score(df_y_test, df_y_pred)) \n",
    "\n"
   ]
  }
 ],
 "metadata": {
  "kernelspec": {
   "display_name": "Python 3",
   "language": "python",
   "name": "python3"
  },
  "language_info": {
   "codemirror_mode": {
    "name": "ipython",
    "version": 3
   },
   "file_extension": ".py",
   "mimetype": "text/x-python",
   "name": "python",
   "nbconvert_exporter": "python",
   "pygments_lexer": "ipython3",
   "version": "3.6.4"
  }
 },
 "nbformat": 4,
 "nbformat_minor": 2
}
